{
 "cells": [
  {
   "cell_type": "markdown",
   "source": [
    "# 更多的分类方案尝试\n",
    "## 一、数据加载"
   ],
   "metadata": {
    "collapsed": false,
    "pycharm": {
     "name": "#%% md\n"
    }
   }
  },
  {
   "cell_type": "code",
   "execution_count": 66,
   "metadata": {
    "collapsed": true,
    "pycharm": {
     "name": "#%%\n"
    }
   },
   "outputs": [],
   "source": [
    "from sklearn.svm import SVC  # 支持向量机分类器\n",
    "from sklearn.naive_bayes import MultinomialNB\n",
    "from sklearn.neighbors import KNeighborsClassifier  # 最近邻分类器\n",
    "import gensim\n",
    "import sklearn\n",
    "from sklearn import metrics  # 模型评价工具\n",
    "from sklearn.externals import joblib  # 模型保存与加载\n",
    "# sklearn自带的向量化工具\n",
    "from sklearn.feature_extraction.text import CountVectorizer\n",
    "# sklearn自带的TF-TDF构造器\n",
    "from sklearn.feature_extraction.text import TfidfTransformer\n",
    "from sklearn.metrics import classification_report\n",
    "from sklearn.model_selection import train_test_split\n",
    "# 朴素贝叶斯分类器\n",
    "from sklearn.naive_bayes import MultinomialNB\n",
    "\n",
    "from entity.comm import Comm\n",
    "from util.path import *\n",
    "from util.vec import doc_vec\n",
    "from util.xl import read_xl_by_line\n",
    "from util import dataset"
   ]
  },
  {
   "cell_type": "code",
   "execution_count": 67,
   "outputs": [
    {
     "name": "stdout",
     "output_type": "stream",
     "text": [
      "exec \"read_xl_by_line\" in 2.0828731060028076s.\n",
      "exec \"read_xl_by_line\" in 1.7205724716186523s.\n",
      "exec \"fetch_data\" in 51.96892046928406s.\n",
      "exec \"read_xl_by_line\" in 1.3550927639007568s.\n"
     ]
    }
   ],
   "source": [
    "# 数据加载与数据清洗\n",
    "sheet_2 = read_xl_by_line(sheet_2_input)\n",
    "stop = dataset.fetch_default_stop_words()\n",
    "comm_dict_2 = dataset.fetch_data(\"full_dataset_sheet_2\", stop_words=stop,\n",
    "                                     cut_all=False, remove_duplicates=False)\n",
    "_, targets, target_names = dataset.fetch_issue1_dataset()\n",
    "seg_sheet_2 = [comm_dict_2[row[0]].seg_topic + comm_dict_2[row[0]].seg_detail for row in sheet_2]\n",
    "sents = list(map(lambda x: \" \".join(x), seg_sheet_2))"
   ],
   "metadata": {
    "collapsed": false,
    "pycharm": {
     "name": "#%%\n"
    }
   }
  },
  {
   "cell_type": "markdown",
   "source": [
    "## 二、分类器\n",
    "### 2.1 TF-IDF特征 + kNN分类器"
   ],
   "metadata": {
    "collapsed": false,
    "pycharm": {
     "name": "#%% md\n"
    }
   }
  },
  {
   "cell_type": "code",
   "execution_count": 68,
   "outputs": [],
   "source": [
    "# 分割测试集和训练集\n",
    "x_train, x_test, y_train, y_test \\\n",
    "        = train_test_split(sents, targets, test_size=0.3)"
   ],
   "metadata": {
    "collapsed": false,
    "pycharm": {
     "name": "#%%\n"
    }
   }
  },
  {
   "cell_type": "code",
   "execution_count": 69,
   "outputs": [],
   "source": [
    "#在训练集上构造TF-IDF特征\n",
    "count_vect = CountVectorizer()\n",
    "x_train_counts = count_vect.fit_transform(x_train)  # 拟合模型\n",
    "\n",
    "# 构建TF-TDF特征\n",
    "tf_transformer = TfidfTransformer().fit(x_train_counts)\n",
    "# 构建TF-IDF特征\n",
    "x_train_tf = tf_transformer.transform(x_train_counts)"
   ],
   "metadata": {
    "collapsed": false,
    "pycharm": {
     "name": "#%%\n"
    }
   }
  },
  {
   "cell_type": "code",
   "execution_count": 70,
   "outputs": [
    {
     "data": {
      "text/plain": "KNeighborsClassifier(algorithm='brute', leaf_size=11, metric='minkowski',\n                     metric_params=None, n_jobs=None, n_neighbors=13, p=2,\n                     weights='uniform')"
     },
     "execution_count": 70,
     "metadata": {},
     "output_type": "execute_result"
    }
   ],
   "source": [
    "# 使用特征集（X）和目标（target）训练/拟合一个kNN分类器\n",
    "clf = KNeighborsClassifier(algorithm=\"brute\", leaf_size=11, n_neighbors=13)\n",
    "clf.fit(x_train_tf, y_train)"
   ],
   "metadata": {
    "collapsed": false,
    "pycharm": {
     "name": "#%%\n"
    }
   }
  },
  {
   "cell_type": "code",
   "execution_count": 71,
   "outputs": [],
   "source": [
    "# 将x_test中的文本转化为tf-idf矩阵表示\n",
    "test_tf = tf_transformer.transform(count_vect.transform(x_test))\n",
    "predicted = clf.predict(test_tf)  # 预测x_test中的分类"
   ],
   "metadata": {
    "collapsed": false,
    "pycharm": {
     "name": "#%%\n"
    }
   }
  },
  {
   "cell_type": "code",
   "execution_count": 72,
   "outputs": [
    {
     "name": "stdout",
     "output_type": "stream",
     "text": [
      "              precision    recall  f1-score   support\n",
      "\n",
      "        城乡建设       0.77      0.91      0.83       563\n",
      "        卫生计生       0.91      0.83      0.87       284\n",
      "     劳动和社会保障       0.84      0.92      0.88       601\n",
      "        交通运输       0.87      0.71      0.78       187\n",
      "        商贸旅游       0.85      0.73      0.78       351\n",
      "        环境保护       0.91      0.83      0.87       269\n",
      "        教育文体       0.92      0.88      0.90       508\n",
      "\n",
      "    accuracy                           0.85      2763\n",
      "   macro avg       0.87      0.83      0.84      2763\n",
      "weighted avg       0.86      0.85      0.85      2763\n",
      "\n"
     ]
    }
   ],
   "source": [
    "print(metrics.classification_report(y_test, predicted, target_names=target_names))"
   ],
   "metadata": {
    "collapsed": false,
    "pycharm": {
     "name": "#%%\n"
    }
   }
  },
  {
   "cell_type": "code",
   "execution_count": 73,
   "outputs": [
    {
     "data": {
      "text/plain": "0.8516105682229461"
     },
     "execution_count": 73,
     "metadata": {},
     "output_type": "execute_result"
    }
   ],
   "source": [
    "# 分类精度评价\n",
    "acc = metrics.accuracy_score(y_test, predicted)\n",
    "acc"
   ],
   "metadata": {
    "collapsed": false,
    "pycharm": {
     "name": "#%%\n"
    }
   }
  },
  {
   "cell_type": "code",
   "execution_count": 74,
   "outputs": [
    {
     "name": "stdout",
     "output_type": "stream",
     "text": [
      "训练集上精度：0.8794788273615635\n"
     ]
    }
   ],
   "source": [
    "# 训练集上精度\n",
    "tf_predicted_on_trainSet = clf.predict(x_train_tf)\n",
    "tf_trainSet_acc = metrics.accuracy_score(y_train, tf_predicted_on_trainSet)\n",
    "print(f\"训练集上精度：{tf_trainSet_acc}\")"
   ],
   "metadata": {
    "collapsed": false,
    "pycharm": {
     "name": "#%%\n"
    }
   }
  },
  {
   "cell_type": "markdown",
   "source": [
    "### 2.2 Word2Vec特征 + kNN分类方法"
   ],
   "metadata": {
    "collapsed": false,
    "pycharm": {
     "name": "#%% md\n"
    }
   }
  },
  {
   "cell_type": "code",
   "execution_count": 75,
   "outputs": [],
   "source": [
    "# 从预设的路径加载词向量化模型Word2Vec\n",
    "wv_model = gensim.models.KeyedVectors.load_word2vec_format(\n",
    "    word2vec_model_path, binary=False)"
   ],
   "metadata": {
    "collapsed": false,
    "pycharm": {
     "name": "#%%\n"
    }
   }
  },
  {
   "cell_type": "code",
   "execution_count": 76,
   "outputs": [],
   "source": [
    "# 计算训练集上的word2vec向量\n",
    "x_train_vec = [doc_vec(s.split(\" \"), wv_model) for s in x_train]"
   ],
   "metadata": {
    "collapsed": false,
    "pycharm": {
     "name": "#%%\n"
    }
   }
  },
  {
   "cell_type": "code",
   "execution_count": 77,
   "outputs": [
    {
     "data": {
      "text/plain": "KNeighborsClassifier(algorithm='auto', leaf_size=11, metric='minkowski',\n                     metric_params=None, n_jobs=None, n_neighbors=13, p=2,\n                     weights='uniform')"
     },
     "execution_count": 77,
     "metadata": {},
     "output_type": "execute_result"
    }
   ],
   "source": [
    "# 建立kNN分类器\n",
    "knn = KNeighborsClassifier(leaf_size=11, n_neighbors=13)\n",
    "knn.fit(x_train_vec, y_train)"
   ],
   "metadata": {
    "collapsed": false,
    "pycharm": {
     "name": "#%%\n"
    }
   }
  },
  {
   "cell_type": "code",
   "execution_count": 78,
   "outputs": [],
   "source": [
    "# 计算测试集上的word2vec向量\n",
    "x_test_vec = [doc_vec(s.split(\" \"), wv_model) for s in x_test]\n",
    "# 使用kNN模型预测测试集上的标签\n",
    "wv_knn_predicted = knn.predict(x_test_vec)"
   ],
   "metadata": {
    "collapsed": false,
    "pycharm": {
     "name": "#%%\n"
    }
   }
  },
  {
   "cell_type": "code",
   "execution_count": 79,
   "outputs": [
    {
     "name": "stdout",
     "output_type": "stream",
     "text": [
      "              precision    recall  f1-score   support\n",
      "\n",
      "        城乡建设       0.78      0.77      0.77       563\n",
      "        卫生计生       0.83      0.63      0.72       284\n",
      "     劳动和社会保障       0.76      0.91      0.83       601\n",
      "        交通运输       0.65      0.52      0.58       187\n",
      "        商贸旅游       0.72      0.73      0.72       351\n",
      "        环境保护       0.80      0.88      0.84       269\n",
      "        教育文体       0.90      0.83      0.86       508\n",
      "\n",
      "    accuracy                           0.79      2763\n",
      "   macro avg       0.78      0.75      0.76      2763\n",
      "weighted avg       0.79      0.79      0.78      2763\n",
      "\n"
     ]
    }
   ],
   "source": [
    "print(metrics.classification_report(y_test, wv_knn_predicted, target_names=target_names))"
   ],
   "metadata": {
    "collapsed": false,
    "pycharm": {
     "name": "#%%\n"
    }
   }
  },
  {
   "cell_type": "code",
   "execution_count": 80,
   "outputs": [
    {
     "data": {
      "text/plain": "0.7861020629750272"
     },
     "execution_count": 80,
     "metadata": {},
     "output_type": "execute_result"
    }
   ],
   "source": [
    "# 分类器精度评价\n",
    "wv_knn_acc = metrics.accuracy_score(y_test, wv_knn_predicted)\n",
    "wv_knn_acc"
   ],
   "metadata": {
    "collapsed": false,
    "pycharm": {
     "name": "#%%\n"
    }
   }
  },
  {
   "cell_type": "code",
   "execution_count": 81,
   "outputs": [
    {
     "name": "stdout",
     "output_type": "stream",
     "text": [
      "训练集上预测精度：0.8264308980921359\n"
     ]
    }
   ],
   "source": [
    "predicted_on_trainSet = knn.predict(x_train_vec)\n",
    "wv_knn_acc_on_trainSet = metrics.accuracy_score(predicted_on_trainSet, y_train)\n",
    "print(f\"训练集上预测精度：{wv_knn_acc_on_trainSet}\")"
   ],
   "metadata": {
    "collapsed": false,
    "pycharm": {
     "name": "#%%\n"
    }
   }
  },
  {
   "cell_type": "markdown",
   "source": [
    "### 2.3 TF-IDF特征 + 支持向量机"
   ],
   "metadata": {
    "collapsed": false,
    "pycharm": {
     "name": "#%% md\n"
    }
   }
  },
  {
   "cell_type": "code",
   "execution_count": 96,
   "outputs": [
    {
     "data": {
      "text/plain": "SVC(C=1.0, break_ties=False, cache_size=200, class_weight=None, coef0=0.0,\n    decision_function_shape='ovr', degree=3, gamma='scale', kernel='linear',\n    max_iter=-1, probability=False, random_state=None, shrinking=True,\n    tol=0.001, verbose=False)"
     },
     "execution_count": 96,
     "metadata": {},
     "output_type": "execute_result"
    }
   ],
   "source": [
    "svm = SVC(kernel=\"linear\")  # 线性核支持向量机模型\n",
    "svm.fit(x_train_tf, y_train)  # 训练模型"
   ],
   "metadata": {
    "collapsed": false,
    "pycharm": {
     "name": "#%%\n"
    }
   }
  },
  {
   "cell_type": "code",
   "execution_count": 97,
   "outputs": [
    {
     "data": {
      "text/plain": "0.9037278320665942"
     },
     "execution_count": 97,
     "metadata": {},
     "output_type": "execute_result"
    }
   ],
   "source": [
    "# 预测测试集上的标签，并评价模型精度\n",
    "tf_svm_predicted = svm.predict(test_tf)\n",
    "tf_svm_acc = metrics.accuracy_score(y_test, tf_svm_predicted)\n",
    "tf_svm_acc"
   ],
   "metadata": {
    "collapsed": false,
    "pycharm": {
     "name": "#%%\n"
    }
   }
  },
  {
   "cell_type": "code",
   "execution_count": 98,
   "outputs": [
    {
     "name": "stdout",
     "output_type": "stream",
     "text": [
      "              precision    recall  f1-score   support\n",
      "\n",
      "        城乡建设       0.81      0.94      0.87       563\n",
      "        卫生计生       0.94      0.85      0.89       284\n",
      "     劳动和社会保障       0.93      0.95      0.94       601\n",
      "        交通运输       0.91      0.80      0.85       187\n",
      "        商贸旅游       0.88      0.83      0.86       351\n",
      "        环境保护       0.96      0.91      0.94       269\n",
      "        教育文体       0.96      0.93      0.94       508\n",
      "\n",
      "    accuracy                           0.90      2763\n",
      "   macro avg       0.91      0.89      0.90      2763\n",
      "weighted avg       0.91      0.90      0.90      2763\n",
      "\n"
     ]
    }
   ],
   "source": [
    "print(metrics.classification_report(y_test,\n",
    "                                    tf_svm_predicted,\n",
    "                                    target_names=target_names))"
   ],
   "metadata": {
    "collapsed": false,
    "pycharm": {
     "name": "#%%\n"
    }
   }
  },
  {
   "cell_type": "code",
   "execution_count": 99,
   "outputs": [
    {
     "name": "stdout",
     "output_type": "stream",
     "text": [
      "训练集上精度：0.9899177912207228\n"
     ]
    }
   ],
   "source": [
    "# 计算经验风险\n",
    "tf_svm_predicted_on_trainSet = svm.predict(x_train_tf)\n",
    "print(f\"训练集上精度：{metrics.accuracy_score(y_train, tf_svm_predicted_on_trainSet)}\")"
   ],
   "metadata": {
    "collapsed": false,
    "pycharm": {
     "name": "#%%\n"
    }
   }
  },
  {
   "cell_type": "markdown",
   "source": [
    "### 2.4 Word2Vec特征 + 支持向量机"
   ],
   "metadata": {
    "collapsed": false,
    "pycharm": {
     "name": "#%% md\n"
    }
   }
  },
  {
   "cell_type": "code",
   "execution_count": 86,
   "outputs": [
    {
     "data": {
      "text/plain": "0.8172276511038726"
     },
     "execution_count": 86,
     "metadata": {},
     "output_type": "execute_result"
    }
   ],
   "source": [
    "svm = SVC(kernel=\"linear\")\n",
    "svm.fit(x_train_vec, y_train)\n",
    "wv_svm_predicted = svm.predict(x_test_vec)\n",
    "wv_svm_acc = metrics.accuracy_score(y_test, wv_svm_predicted)\n",
    "wv_svm_acc"
   ],
   "metadata": {
    "collapsed": false,
    "pycharm": {
     "name": "#%%\n"
    }
   }
  },
  {
   "cell_type": "code",
   "execution_count": 87,
   "outputs": [
    {
     "name": "stdout",
     "output_type": "stream",
     "text": [
      "              precision    recall  f1-score   support\n",
      "\n",
      "        城乡建设       0.77      0.82      0.79       563\n",
      "        卫生计生       0.80      0.71      0.75       284\n",
      "     劳动和社会保障       0.83      0.90      0.86       601\n",
      "        交通运输       0.72      0.63      0.67       187\n",
      "        商贸旅游       0.74      0.72      0.73       351\n",
      "        环境保护       0.87      0.90      0.89       269\n",
      "        教育文体       0.92      0.87      0.90       508\n",
      "\n",
      "    accuracy                           0.82      2763\n",
      "   macro avg       0.81      0.79      0.80      2763\n",
      "weighted avg       0.82      0.82      0.82      2763\n",
      "\n"
     ]
    }
   ],
   "source": [
    "print(metrics.classification_report(y_test,\n",
    "                                    wv_svm_predicted,\n",
    "                                    target_names=target_names))"
   ],
   "metadata": {
    "collapsed": false,
    "pycharm": {
     "name": "#%%\n"
    }
   }
  },
  {
   "cell_type": "code",
   "execution_count": 88,
   "outputs": [
    {
     "name": "stdout",
     "output_type": "stream",
     "text": [
      "训练集上精度：0.8455095393206142\n"
     ]
    }
   ],
   "source": [
    "# 计算经验风险\n",
    "wv_svm_predicted_on_trainSet = svm.predict(x_train_vec)\n",
    "print(f\"训练集上精度：{metrics.accuracy_score(y_train, wv_svm_predicted_on_trainSet)}\")"
   ],
   "metadata": {
    "collapsed": false,
    "pycharm": {
     "name": "#%%\n"
    }
   }
  },
  {
   "cell_type": "markdown",
   "source": [
    "### 2.5 TF-IDF特征 + 朴素贝叶斯"
   ],
   "metadata": {
    "collapsed": false,
    "pycharm": {
     "name": "#%% md\n"
    }
   }
  },
  {
   "cell_type": "code",
   "execution_count": 89,
   "outputs": [
    {
     "data": {
      "text/plain": "0.7423090843286283"
     },
     "execution_count": 89,
     "metadata": {},
     "output_type": "execute_result"
    }
   ],
   "source": [
    "# 使用NB模型拟合并预测测试集上的标签\n",
    "nb = MultinomialNB()\n",
    "nb.fit(x_train_tf, y_train)\n",
    "tf_nb_predicted = nb.predict(test_tf)\n",
    "tf_nb_acc = metrics.accuracy_score(y_test, tf_nb_predicted)\n",
    "tf_nb_acc"
   ],
   "metadata": {
    "collapsed": false,
    "pycharm": {
     "name": "#%%\n"
    }
   }
  },
  {
   "cell_type": "code",
   "execution_count": 90,
   "outputs": [
    {
     "name": "stdout",
     "output_type": "stream",
     "text": [
      "              precision    recall  f1-score   support\n",
      "\n",
      "        城乡建设       0.59      0.97      0.73       563\n",
      "        卫生计生       0.98      0.37      0.54       284\n",
      "     劳动和社会保障       0.68      0.97      0.80       601\n",
      "        交通运输       0.97      0.18      0.31       187\n",
      "        商贸旅游       0.91      0.48      0.63       351\n",
      "        环境保护       0.97      0.67      0.79       269\n",
      "        教育文体       0.94      0.85      0.89       508\n",
      "\n",
      "    accuracy                           0.74      2763\n",
      "   macro avg       0.86      0.64      0.67      2763\n",
      "weighted avg       0.82      0.74      0.72      2763\n",
      "\n"
     ]
    }
   ],
   "source": [
    "print(metrics.classification_report(y_test,\n",
    "                                    tf_nb_predicted,\n",
    "                                    target_names=target_names))"
   ],
   "metadata": {
    "collapsed": false,
    "pycharm": {
     "name": "#%%\n"
    }
   }
  },
  {
   "cell_type": "code",
   "execution_count": 91,
   "outputs": [
    {
     "name": "stdout",
     "output_type": "stream",
     "text": [
      "训练集上精度：0.8531099736311463\n"
     ]
    }
   ],
   "source": [
    "# 计算经验风险\n",
    "tf_nb_predicted_on_trainSet = nb.predict(x_train_tf)\n",
    "print(f\"训练集上精度：{metrics.accuracy_score(y_train, tf_nb_predicted_on_trainSet)}\")"
   ],
   "metadata": {
    "collapsed": false,
    "pycharm": {
     "name": "#%%\n"
    }
   }
  },
  {
   "cell_type": "code",
   "execution_count": 91,
   "outputs": [],
   "source": [
    "\n"
   ],
   "metadata": {
    "collapsed": false,
    "pycharm": {
     "name": "#%%\n"
    }
   }
  }
 ],
 "metadata": {
  "kernelspec": {
   "display_name": "Python 3",
   "language": "python",
   "name": "python3"
  },
  "language_info": {
   "codemirror_mode": {
    "name": "ipython",
    "version": 2
   },
   "file_extension": ".py",
   "mimetype": "text/x-python",
   "name": "python",
   "nbconvert_exporter": "python",
   "pygments_lexer": "ipython2",
   "version": "2.7.6"
  }
 },
 "nbformat": 4,
 "nbformat_minor": 0
}